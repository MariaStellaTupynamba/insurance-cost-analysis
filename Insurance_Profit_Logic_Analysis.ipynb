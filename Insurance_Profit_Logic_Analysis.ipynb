{
 "cells": [
  {
   "cell_type": "markdown",
   "id": "5708d564",
   "metadata": {},
   "source": [
    "# 🩺 Insurance Cost Analysis: Profit Logic & Social Vulnerability\n",
    "\n",
    "This portfolio project explores how medical insurance pricing in the U.S. reflects profit-driven logic by disproportionately affecting socially vulnerable groups such as women, older individuals, and smokers.\n",
    "\n",
    "We use Python to analyze real-world data and reveal how certain features influence charges and reinforce bias. The project concludes with ethical insights into how algorithmic pricing can reproduce structural inequalities.\n"
   ]
  },
  {
   "cell_type": "code",
   "execution_count": null,
   "id": "b613e1af",
   "metadata": {},
   "outputs": [],
   "source": [
    "import pandas as pd\n",
    "\n",
    "# Load the dataset\n",
    "df = pd.read_csv(\"insurance.csv\")\n",
    "df.head()"
   ]
  },
  {
   "cell_type": "code",
   "execution_count": null,
   "id": "ac438571",
   "metadata": {},
   "outputs": [],
   "source": [
    "\n",
    "import pandas as pd\n",
    "import seaborn as sns\n",
    "import matplotlib.pyplot as plt\n",
    "from sklearn.linear_model import LinearRegression\n",
    "from sklearn.model_selection import train_test_split\n",
    "import json\n",
    "\n",
    "class FixedInsuranceAnalysis:\n",
    "    def __init__(self, csv_path):\n",
    "        self.df = pd.read_csv(csv_path)\n",
    "\n",
    "    def summarize_data(self):\n",
    "        return self.df.describe(include=\"all\")\n",
    "\n",
    "    def charges_by_gender(self):\n",
    "        return self.df.groupby(\"sex\")[\"charges\"].agg([\"mean\", \"median\", \"count\"]).round(2)\n",
    "\n",
    "    def charges_by_age_bins(self, bins=[18, 30, 45, 60, 65]):\n",
    "        self.df[\"age_group\"] = pd.cut(self.df[\"age\"], bins)\n",
    "        result = self.df.groupby(\"age_group\")[\"charges\"].agg([\"mean\", \"count\"]).round(2)\n",
    "        result.index = result.index.astype(str)\n",
    "        return result\n",
    "\n",
    "    def charges_by_smoking_status(self):\n",
    "        return self.df.groupby(\"smoker\")[\"charges\"].agg([\"mean\", \"median\", \"count\"]).round(2)\n",
    "\n",
    "    def visualize_charges_by_category(self, category):\n",
    "        if category in self.df.columns:\n",
    "            plt.figure(figsize=(8, 5))\n",
    "            sns.boxplot(data=self.df, x=category, y=\"charges\", palette=\"Set3\")\n",
    "            plt.title(f\"Insurance Charges by {category.capitalize()}\")\n",
    "            plt.ylabel(\"Charges ($)\")\n",
    "            plt.tight_layout()\n",
    "            plt.show()\n",
    "        else:\n",
    "            print(f\"'{category}' is not a valid column.\")\n",
    "\n",
    "    def correlation_matrix(self):\n",
    "        return self.df.corr(numeric_only=True)\n",
    "\n",
    "    def regression_inputs(self):\n",
    "        df_encoded = pd.get_dummies(self.df, drop_first=True)\n",
    "        X = df_encoded.drop(\"charges\", axis=1)\n",
    "        y = df_encoded[\"charges\"]\n",
    "        X_train, X_test, y_train, y_test = train_test_split(X, y, test_size=0.2, random_state=42)\n",
    "        model = LinearRegression()\n",
    "        model.fit(X_train, y_train)\n",
    "        r2_score = model.score(X_test, y_test)\n",
    "        return {\n",
    "            \"r2_score\": round(r2_score, 3),\n",
    "            \"coefficients\": dict(zip(X.columns, model.coef_))\n",
    "        }\n",
    "\n",
    "    def top_influential_factors(self, top_n=5):\n",
    "        model_results = self.regression_inputs()\n",
    "        coef_dict = model_results[\"coefficients\"]\n",
    "        sorted_coef = sorted(coef_dict.items(), key=lambda item: abs(item[1]), reverse=True)\n",
    "        return sorted_coef[:top_n]\n",
    "\n",
    "    def discuss_bias(self):\n",
    "        notes = [\n",
    "            \"⚠️ The dataset reflects binary gender (male/female), ignoring non-binary identities.\",\n",
    "            \"⚠️ Charges for smokers are extremely inflated, likely based on profit risk rather than actual cost.\",\n",
    "            \"⚠️ Charges rise with age — potentially penalizing individuals as they become less economically productive.\",\n",
    "            \"⚠️ Regional pricing may reflect systemic inequalities in healthcare access and provider markup.\",\n",
    "            \"⚠️ Predictive models based on these features may reinforce existing social biases in automated insurance decisions.\",\n",
    "        ]\n",
    "        return notes\n",
    "\n",
    "    def summarize_findings(self):\n",
    "        return {\n",
    "            \"gender_bias\": self.charges_by_gender().to_dict(),\n",
    "            \"age_groups\": self.charges_by_age_bins().to_dict(),\n",
    "            \"smoker_markup\": self.charges_by_smoking_status().to_dict(),\n",
    "            \"correlation_matrix\": self.correlation_matrix().to_dict(),\n",
    "            \"regression_summary\": self.regression_inputs()\n",
    "        }\n",
    "\n",
    "    def export_report(self, filename=\"insurance_analysis_report.json\"):\n",
    "        report = {\n",
    "            \"summary\": self.summarize_findings(),\n",
    "            \"top_factors\": self.top_influential_factors(),\n",
    "            \"bias_notes\": self.discuss_bias()\n",
    "        }\n",
    "        with open(filename, \"w\") as f:\n",
    "            json.dump(report, f, indent=2)\n",
    "        return f\"Report saved to {filename}\"\n"
   ]
  },
  {
   "cell_type": "code",
   "execution_count": null,
   "id": "0a33f9fc",
   "metadata": {},
   "outputs": [],
   "source": [
    "analysis = FixedInsuranceAnalysis(\"insurance.csv\")"
   ]
  },
  {
   "cell_type": "code",
   "execution_count": null,
   "id": "84307b35",
   "metadata": {},
   "outputs": [],
   "source": [
    "# 📊 Gender-Based Insurance Charges\n",
    "analysis.charges_by_gender()"
   ]
  },
  {
   "cell_type": "code",
   "execution_count": null,
   "id": "ca9fe228",
   "metadata": {},
   "outputs": [],
   "source": [
    "# 📊 Age-Based Insurance Charges\n",
    "analysis.charges_by_age_bins()"
   ]
  },
  {
   "cell_type": "code",
   "execution_count": null,
   "id": "0dc5f833",
   "metadata": {},
   "outputs": [],
   "source": [
    "# 📊 Smoker vs Non-Smoker Charges\n",
    "analysis.charges_by_smoking_status()"
   ]
  },
  {
   "cell_type": "code",
   "execution_count": null,
   "id": "a104c584",
   "metadata": {},
   "outputs": [],
   "source": [
    "# 📈 Correlation Matrix\n",
    "analysis.correlation_matrix()"
   ]
  },
  {
   "cell_type": "code",
   "execution_count": null,
   "id": "f9ecf0b6",
   "metadata": {},
   "outputs": [],
   "source": [
    "# 🔍 Most Influential Factors (Regression)\n",
    "analysis.top_influential_factors()"
   ]
  },
  {
   "cell_type": "code",
   "execution_count": null,
   "id": "2089e700",
   "metadata": {},
   "outputs": [],
   "source": [
    "# ⚠️ Bias Discussion\n",
    "for note in analysis.discuss_bias():\n",
    "    print(note)"
   ]
  },
  {
   "cell_type": "markdown",
   "id": "111aece6",
   "metadata": {},
   "source": [
    "## ✅ Conclusion\n",
    "\n",
    "This analysis shows that medical insurance pricing does not only reflect health risks — it monetizes **social vulnerabilities** such as:\n",
    "\n",
    "- Gender (despite wage inequality)\n",
    "- Age (despite lower income capacity with aging)\n",
    "- Smoking (used as a proxy for socioeconomic status)\n",
    "\n",
    "**Algorithmic systems trained on such biased data can reinforce systemic inequality**, making it essential to audit how these models are built and used.\n",
    "\n",
    "---\n",
    "\n",
    "### 💾 Files Included:\n",
    "- `Insurance_Profit_Logic_Analysis.ipynb`: This notebook\n",
    "- `insurance.csv`: Dataset used for analysis\n",
    "- `insurance_analysis_report.json`: Structured output (optional)\n"
   ]
  }
 ],
 "metadata": {},
 "nbformat": 4,
 "nbformat_minor": 5
}
